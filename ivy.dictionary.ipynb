{
 "cells": [
  {
   "cell_type": "code",
   "execution_count": 1,
   "metadata": {},
   "outputs": [
    {
     "name": "stdout",
     "output_type": "stream",
     "text": [
      "{'a': 1, 'b': 2, 'c': 3}\n"
     ]
    }
   ],
   "source": [
    "d1={'a':1,'b':2,'c':3}\n",
    "print(d1)"
   ]
  },
  {
   "cell_type": "code",
   "execution_count": 4,
   "metadata": {},
   "outputs": [
    {
     "name": "stdout",
     "output_type": "stream",
     "text": [
      "{'brand': 'ford', 'model': 'mustang', 'year': 1995}\n"
     ]
    }
   ],
   "source": [
    "cars_dict1={'brand':'ford','model':'mustang','year':1998,'year':1995}\n",
    "print(cars_dict1)"
   ]
  },
  {
   "cell_type": "code",
   "execution_count": 7,
   "metadata": {},
   "outputs": [
    {
     "name": "stdout",
     "output_type": "stream",
     "text": [
      "3\n",
      "<class 'dict'>\n"
     ]
    }
   ],
   "source": [
    "print(len(cars_dict1))\n",
    "print(type(cars_dict1))"
   ]
  },
  {
   "cell_type": "raw",
   "metadata": {},
   "source": []
  },
  {
   "cell_type": "code",
   "execution_count": 18,
   "metadata": {},
   "outputs": [
    {
     "name": "stdout",
     "output_type": "stream",
     "text": [
      "mustang\n",
      "{'brand': 'ford', 'model': 'mustang', 'year': 1995, 'colour': 'black'}\n"
     ]
    }
   ],
   "source": [
    "print(cars_dict1['model'])\n",
    "      \n",
    "cars_dict1['colour']='black'\n",
    "print(cars_dict1)    "
   ]
  },
  {
   "cell_type": "code",
   "execution_count": null,
   "metadata": {},
   "outputs": [],
   "source": []
  },
  {
   "cell_type": "code",
   "execution_count": 11,
   "metadata": {},
   "outputs": [
    {
     "name": "stdout",
     "output_type": "stream",
     "text": [
      "<built-in method keys of dict object at 0x0000026B188F2440>\n"
     ]
    }
   ],
   "source": [
    "print(cars_dict1.keys)"
   ]
  },
  {
   "cell_type": "code",
   "execution_count": 13,
   "metadata": {},
   "outputs": [
    {
     "name": "stdout",
     "output_type": "stream",
     "text": [
      "ford\n"
     ]
    }
   ],
   "source": [
    "print(cars_dict1.get('brand'))\n"
   ]
  },
  {
   "cell_type": "code",
   "execution_count": 16,
   "metadata": {},
   "outputs": [
    {
     "name": "stdout",
     "output_type": "stream",
     "text": [
      "dict_values(['ford', 'mustang', 1995])\n"
     ]
    }
   ],
   "source": [
    "print(cars_dict1.values())"
   ]
  },
  {
   "cell_type": "code",
   "execution_count": 19,
   "metadata": {},
   "outputs": [
    {
     "name": "stdout",
     "output_type": "stream",
     "text": [
      "dict_values(['ford', 'mustang', 1995, 'black'])\n"
     ]
    }
   ],
   "source": [
    "x=cars_dict1.values()\n",
    "print(x)"
   ]
  },
  {
   "cell_type": "code",
   "execution_count": 20,
   "metadata": {},
   "outputs": [
    {
     "name": "stdout",
     "output_type": "stream",
     "text": [
      "dict_values(['ford', 'mustang', 2022, 'black'])\n"
     ]
    }
   ],
   "source": [
    "cars_dict1['year']=2022\n",
    "print(x)"
   ]
  },
  {
   "cell_type": "code",
   "execution_count": 1,
   "metadata": {},
   "outputs": [
    {
     "name": "stdout",
     "output_type": "stream",
     "text": [
      "sum of the numbers 6\n"
     ]
    }
   ],
   "source": [
    "num1=2\n",
    "num2=4\n",
    "sum=num1+num2\n",
    "print('sum of the numbers', sum)"
   ]
  },
  {
   "cell_type": "code",
   "execution_count": 3,
   "metadata": {},
   "outputs": [
    {
     "name": "stdout",
     "output_type": "stream",
     "text": [
      "first number4\n",
      "second number6\n",
      "sum of the numbers 10\n"
     ]
    }
   ],
   "source": [
    "num1=int(input('first number'))\n",
    "num2=int(input('second number'))\n",
    "sum=num1+num2\n",
    "print('sum of the numbers', sum)"
   ]
  },
  {
   "cell_type": "code",
   "execution_count": 4,
   "metadata": {},
   "outputs": [
    {
     "name": "stdout",
     "output_type": "stream",
     "text": [
      "first number20\n",
      "second number10\n",
      "10\n"
     ]
    }
   ],
   "source": [
    "num1=int(input('first number'))\n",
    "num2=int(input('second number'))\n",
    "result=num1-num2\n",
    "print(result)"
   ]
  },
  {
   "cell_type": "code",
   "execution_count": 5,
   "metadata": {},
   "outputs": [
    {
     "name": "stdout",
     "output_type": "stream",
     "text": [
      "first number3\n",
      "second number4\n",
      "12\n"
     ]
    }
   ],
   "source": [
    "num1=int(input('first number'))\n",
    "num2=int(input('second number'))\n",
    "result=num1*num2\n",
    "print(result)"
   ]
  },
  {
   "cell_type": "code",
   "execution_count": 6,
   "metadata": {},
   "outputs": [
    {
     "name": "stdout",
     "output_type": "stream",
     "text": [
      "first number100\n",
      "second number50\n",
      "2.0\n"
     ]
    }
   ],
   "source": [
    "num1=int(input('first number'))\n",
    "num2=int(input('second number'))\n",
    "result=num1/num2\n",
    "print(result)"
   ]
  },
  {
   "cell_type": "code",
   "execution_count": 7,
   "metadata": {},
   "outputs": [
    {
     "name": "stdout",
     "output_type": "stream",
     "text": [
      "first number8\n",
      "second number2\n",
      "4\n"
     ]
    }
   ],
   "source": [
    "num1=int(input('first number'))\n",
    "num2=int(input('second number'))\n",
    "result=num1//num2\n",
    "print(result)"
   ]
  },
  {
   "cell_type": "code",
   "execution_count": 14,
   "metadata": {},
   "outputs": [
    {
     "name": "stdout",
     "output_type": "stream",
     "text": [
      "first number=100\n",
      "second number=2\n",
      "0\n"
     ]
    }
   ],
   "source": [
    "num1=int(input('first number='))\n",
    "num2=int(input('second number='))\n",
    "result=num1%num2\n",
    "print(result)"
   ]
  },
  {
   "cell_type": "markdown",
   "metadata": {},
   "source": []
  },
  {
   "cell_type": "code",
   "execution_count": 9,
   "metadata": {},
   "outputs": [
    {
     "name": "stdout",
     "output_type": "stream",
     "text": [
      "a is greater\n"
     ]
    }
   ],
   "source": [
    "a=20\n",
    "b=10\n",
    "if(a>b):\n",
    "    print('a is greater')\n",
    "else:\n",
    "    print('b is greater')"
   ]
  },
  {
   "cell_type": "code",
   "execution_count": 13,
   "metadata": {},
   "outputs": [
    {
     "name": "stdout",
     "output_type": "stream",
     "text": [
      "1st number is10\n",
      "2nd numberis10\n",
      "both are equal\n"
     ]
    }
   ],
   "source": [
    "a=int(input('1st number is'))\n",
    "b=int(input('2nd numberis'))\n",
    "if(a>b):\n",
    "    print('a is greater')\n",
    "elif(a==b):\n",
    "    print('both are equal')\n",
    "else:\n",
    "    print('b is greater')"
   ]
  },
  {
   "cell_type": "code",
   "execution_count": 19,
   "metadata": {},
   "outputs": [
    {
     "name": "stdout",
     "output_type": "stream",
     "text": [
      "the number is5\n",
      "the number is odd\n"
     ]
    }
   ],
   "source": [
    "a=int(input('the number is'))\n",
    "if a%2==0:\n",
    "    print('the number is even')\n",
    "else:\n",
    "    print('the number is odd')"
   ]
  },
  {
   "cell_type": "code",
   "execution_count": null,
   "metadata": {},
   "outputs": [],
   "source": []
  }
 ],
 "metadata": {
  "kernelspec": {
   "display_name": "Python 3",
   "language": "python",
   "name": "python3"
  },
  "language_info": {
   "codemirror_mode": {
    "name": "ipython",
    "version": 3
   },
   "file_extension": ".py",
   "mimetype": "text/x-python",
   "name": "python",
   "nbconvert_exporter": "python",
   "pygments_lexer": "ipython3",
   "version": "3.8.5"
  }
 },
 "nbformat": 4,
 "nbformat_minor": 4
}
